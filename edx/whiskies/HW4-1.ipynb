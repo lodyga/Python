{
 "cells": [
  {
   "cell_type": "markdown",
   "metadata": {},
   "source": [
    "# Using Python for Research Homework: Week 4, Case Study 1\n",
    "\n",
    "In this case study, we have prepared step-by-step instructions for you on how to prepare plots in Bokeh, a library designed for simple, interactive plotting.  We will demonstrate Bokeh by continuing the analysis of Scotch whiskies."
   ]
  },
  {
   "cell_type": "code",
   "execution_count": 1,
   "metadata": {
    "scrolled": true
   },
   "outputs": [
    {
     "data": {
      "text/plain": [
       "array([[1.        , 0.44904168, 0.46216816, ..., 0.50475261, 0.34921515,\n",
       "        0.26722197],\n",
       "       [0.44904168, 1.        , 0.28977485, ..., 0.62335961, 0.74444508,\n",
       "        0.7000808 ],\n",
       "       [0.46216816, 0.28977485, 1.        , ..., 0.03309517, 0.07784989,\n",
       "        0.16547585],\n",
       "       ...,\n",
       "       [0.50475261, 0.62335961, 0.03309517, ..., 1.        , 0.76520727,\n",
       "        0.6626506 ],\n",
       "       [0.34921515, 0.74444508, 0.07784989, ..., 0.76520727, 1.        ,\n",
       "        0.76520727],\n",
       "       [0.26722197, 0.7000808 , 0.16547585, ..., 0.6626506 , 0.76520727,\n",
       "        1.        ]])"
      ]
     },
     "execution_count": 1,
     "metadata": {},
     "output_type": "execute_result"
    }
   ],
   "source": [
    "from sklearn.cluster._bicluster import SpectralCoclustering\n",
    "import numpy as np\n",
    "import pandas as pd\n",
    "\n",
    "whisky = pd.read_csv(\"https://courses.edx.org/asset-v1:HarvardX+PH526x+2T2019+type@asset+block@whiskies.csv\", index_col=0)\n",
    "correlations = pd.DataFrame.corr(whisky.iloc[:, 2:14].transpose())\n",
    "correlations = np.array(correlations)\n",
    "correlations"
   ]
  },
  {
   "cell_type": "markdown",
   "metadata": {},
   "source": [
    "### Exercise 1\n",
    "\n",
    "In this exercise, we provide a basic demonstration of an interactive grid plot using Bokeh. Make sure to study this code now, as we will edit similar code in the exercises that follow.\n",
    "\n",
    "#### Instructions\n",
    "- Execute the following code and follow along with the comments. We will later adapt this code to plot the correlations among distillery flavor profiles as well as plot a geographical map of distilleries colored by region and flavor profile.\n",
    "- Once you have plotted the code, hover, click, and drag your cursor on the plot to interact with it. Additionally, explore the icons in the top-right corner of the plot for more interactive options!"
   ]
  },
  {
   "cell_type": "code",
   "execution_count": 2,
   "metadata": {
    "scrolled": true
   },
   "outputs": [
    {
     "name": "stdout",
     "output_type": "stream",
     "text": [
      "[(1, 1), (1, 2), (1, 3), (1, 4), (1, 5), (2, 1), (2, 2), (2, 3), (2, 4), (2, 5), (3, 1), (3, 2), (3, 3), (3, 4), (3, 5), (4, 1), (4, 2), (4, 3), (4, 4), (4, 5), (5, 1), (5, 2), (5, 3), (5, 4), (5, 5)]\n"
     ]
    }
   ],
   "source": [
    "# First, we import a tool to allow text to pop up on a plot when the cursor\n",
    "# hovers over it.  Also, we import a data structure used to store arguments\n",
    "# of what to plot in Bokeh.  Finally, we will use numpy for this section as well!\n",
    "\n",
    "from bokeh.models import HoverTool, ColumnDataSource\n",
    "\n",
    "# Let's plot a simple 5x5 grid of squares, alternating between two colors.\n",
    "plot_values = [1, 2, 3, 4, 5]\n",
    "plot_colors = ['#0173b2', '#de8f05']\n",
    "\n",
    "# How do we tell Bokeh to plot each point in a grid?  Let's use a function that\n",
    "# finds each combination of values from 1-5.\n",
    "from itertools import product\n",
    "\n",
    "grid = list(product(plot_values, plot_values))\n",
    "print(grid)\n",
    "\n",
    "# print(list(product(range(1, 6), range(1, 6))))"
   ]
  },
  {
   "cell_type": "code",
   "execution_count": 71,
   "metadata": {
    "scrolled": true
   },
   "outputs": [
    {
     "name": "stdout",
     "output_type": "stream",
     "text": [
      "(1, 1, 1, 1, 1, 2, 2, 2, 2, 2, 3, 3, 3, 3, 3, 4, 4, 4, 4, 4, 5, 5, 5, 5, 5)\n",
      "(1, 2, 3, 4, 5, 1, 2, 3, 4, 5, 1, 2, 3, 4, 5, 1, 2, 3, 4, 5, 1, 2, 3, 4, 5)\n",
      "[[1, 2], [1, 2], [1, 2]]\n",
      "[1, 1, 1, 2, 2, 2, 3, 3, 3, 4, 4, 4, 5, 5, 5]\n",
      "[1, 1, 1, 2, 2, 2, 3, 3, 3, 4, 4, 4, 5, 5, 5]\n",
      "[1, 1, 1, 2, 2, 2, 3, 3, 3, 4, 4, 4, 5, 5, 5]\n",
      "[1, 1, 1, 2, 2, 2, 3, 3, 3, 4, 4, 4, 5, 5, 5]\n"
     ]
    }
   ],
   "source": [
    "# The first value is the x coordinate, and the second value is the y coordinate.\n",
    "# Let's store these in separate lists.\n",
    "from itertools import repeat\n",
    "\n",
    "xs, ys = zip(*grid)\n",
    "print(xs)\n",
    "print(ys)\n",
    "\n",
    "print(list(repeat([1, 2], 3)))\n",
    "# print(list(range(1, 6)) * 5)\n",
    "list(range(1, 6)) * 5\n",
    "\n",
    "print(sum(map(lambda x: [x] * 3, range(1, 6)), []))\n",
    "\n",
    "list_of_lists= zip(*repeat(range(1, 6), 3))\n",
    "print([val for sublist in list_of_lists for val in sublist])\n",
    "\n",
    "list_of_lists= zip(*repeat(range(1, 6), 3))\n",
    "print(list(np.array(list(list_of_lists)).flatten()))\n",
    "\n",
    "print(list(np.repeat(range(1, 6), 3)))"
   ]
  },
  {
   "cell_type": "code",
   "execution_count": 4,
   "metadata": {
    "scrolled": true
   },
   "outputs": [
    {
     "name": "stdout",
     "output_type": "stream",
     "text": [
      "['#0173b2', '#de8f05', '#0173b2', '#de8f05', '#0173b2', '#de8f05', '#0173b2', '#de8f05', '#0173b2', '#de8f05', '#0173b2', '#de8f05', '#0173b2', '#de8f05', '#0173b2', '#de8f05', '#0173b2', '#de8f05', '#0173b2', '#de8f05', '#0173b2', '#de8f05', '#0173b2', '#de8f05', '#0173b2']\n"
     ]
    }
   ],
   "source": [
    "# Now we will make a list of colors, alternating between red and blue.\n",
    "\n",
    "colors = [plot_colors[i%2] for i in range(len(grid))]\n",
    "print(colors)"
   ]
  },
  {
   "cell_type": "code",
   "execution_count": 5,
   "metadata": {
    "scrolled": true
   },
   "outputs": [],
   "source": [
    "# Finally, let's determine the strength of transparency (alpha) for each point,\n",
    "# where 0 is completely transparent.\n",
    "\n",
    "alphas = np.linspace(0, 1, len(grid))\n",
    "\n",
    "# Bokeh likes each of these to be stored in a special dataframe, called\n",
    "# ColumnDataSource. Let's store our coordinates, colors, and alpha values.\n",
    "\n",
    "source = ColumnDataSource(\n",
    "    data = {\n",
    "        \"x\": xs,\n",
    "        \"y\": ys,\n",
    "        \"colors\": colors,\n",
    "        \"alphas\": alphas,\n",
    "    }\n",
    ")\n",
    "# We are ready to make our interactive Bokeh plot!\n",
    "from bokeh.plotting import figure, output_file, show\n",
    "\n",
    "output_file('Basic_Example.html', title='Basic Example')\n",
    "fig = figure(tools='hover')\n",
    "fig.rect('x', 'y', 0.9, 0.9, source=source, color='colors', alpha='alphas')\n",
    "hover = fig.select(dict(type=HoverTool))\n",
    "hover.tooltips = {\n",
    "    \"Value\": \"@x, @y\",\n",
    "    }\n",
    "show(fig)"
   ]
  },
  {
   "cell_type": "markdown",
   "metadata": {},
   "source": [
    "### Exercise 2\n",
    "\n",
    "In this exercise, we will create the names and colors we will use to plot the correlation matrix of whisky flavors. Later, we will also use these colors to plot each distillery geographically.\n",
    "\n",
    "#### Instructions \n",
    "- Create a dictionary `region_colors` with `regions` as keys and `cluster_colors` as values.\n",
    "- Print `region_colors`."
   ]
  },
  {
   "cell_type": "code",
   "execution_count": 6,
   "metadata": {
    "scrolled": true
   },
   "outputs": [
    {
     "name": "stdout",
     "output_type": "stream",
     "text": [
      "{'Speyside': '#0173b2', 'Highlands': '#de8f05', 'Lowlands': '#029e73', 'Islands': '#d55e00', 'Campbelltown': '#cc78bc', 'Islay': '#ca9161'}\n",
      "{0: '#0173b2', 1: '#de8f05', 2: '#029e73', 3: '#d55e00', 4: '#cc78bc', 5: '#ca9161'}\n"
     ]
    }
   ],
   "source": [
    "regions = [\"Speyside\", \"Highlands\", \"Lowlands\", \"Islands\", \"Campbelltown\", \"Islay\"]\n",
    "cluster_colors = ['#0173b2', '#de8f05', '#029e73', '#d55e00', '#cc78bc', '#ca9161']\n",
    "\n",
    "region_colors = dict(zip(regions, cluster_colors))\n",
    "group_colors = dict(zip(range(6), cluster_colors))\n",
    "print(region_colors)\n",
    "print(group_colors)"
   ]
  },
  {
   "cell_type": "markdown",
   "metadata": {},
   "source": [
    "### Exercise 3\n",
    "\n",
    "`correlations` is a two-dimensional `np.array` with both rows and columns corresponding to distilleries and elements corresponding to the flavor correlation of each row/column pair. In this exercise, we will define a list `correlation_colors`, with `string` values corresponding to colors to be used to plot each distillery pair. Low correlations among distillery pairs will be white, high correlations will be a distinct group color if the distilleries from the same group, and gray otherwise.\n",
    "\n",
    "#### Instructions\n",
    "\n",
    "- Edit the code to define `correlation_colors` for each distillery pair to have input `'white'` if their correlation is less than 0.7.\n",
    "- `whisky` is a `pandas` dataframe, and `Group` is a column consisting of distillery group memberships. For distillery pairs with correlation greater than 0.7, if they share the same whisky group, use the corresponding color from `cluster_colors`. Otherwise, the `correlation_colors` value for that distillery pair will be defined as `'lightgray'`."
   ]
  },
  {
   "cell_type": "code",
   "execution_count": 7,
   "metadata": {
    "scrolled": true
   },
   "outputs": [],
   "source": [
    "distilleries = list(whisky.Distillery)\n",
    "correlation_colors = []\n",
    "for i in range(len(distilleries)):\n",
    "    for j in range(len(distilleries)):\n",
    "        if correlations[i, j] < 0.7:                      # if low correlation,\n",
    "            correlation_colors.append('white')         # just use white.\n",
    "        else:                                          # otherwise,\n",
    "            if distilleries[i] == distilleries[j]:                  # if the groups match,\n",
    "                correlation_colors.append(cluster_colors[whisky.Group[i]]) # color them by their mutual group.\n",
    "            else:                                      # otherwise\n",
    "                correlation_colors.append('lightgray') # color them lightgray."
   ]
  },
  {
   "cell_type": "code",
   "execution_count": 20,
   "metadata": {},
   "outputs": [
    {
     "data": {
      "text/plain": [
       "True"
      ]
     },
     "execution_count": 20,
     "metadata": {},
     "output_type": "execute_result"
    }
   ],
   "source": [
    "correlation_colors2 = ['white' if correlations[i, j] < 0.7 else cluster_colors[whisky.Group[i]] if distilleries[i] == distilleries[j] else 'lightgray' for i in range(len(distilleries)) for j in range(len(distilleries))]\n",
    "correlation_colors == correlation_colors2"
   ]
  },
  {
   "cell_type": "markdown",
   "metadata": {},
   "source": [
    "### Exercise 4\n",
    "\n",
    "In this exercise, we will edit the given code to make an interactive grid of the correlations among distillery pairs based on the quantities found in previous exercises. Most plotting specifications are made by editing `ColumnDataSource`, a `bokeh` structure used for defining interactive plotting inputs. The rest of the plotting code is already complete.\n",
    "\n",
    "#### Instructions \n",
    "\n",
    "- `correlation_colors` is a list of `string` colors for each pair of distilleries. Set this as `color` in `ColumnDataSource`.\n",
    "- Define `correlations` in `source` using `correlations` from the previous exercise. To convert `correlations` from a `np.array` to a `list`, use the `flatten()` method. This correlation coefficient will be used to define both the color transparency as well as the hover text for each square."
   ]
  },
  {
   "cell_type": "code",
   "execution_count": 72,
   "metadata": {
    "scrolled": true
   },
   "outputs": [],
   "source": [
    "source = ColumnDataSource(\n",
    "    data = {\n",
    "        \"x\": np.repeat(distilleries,len(distilleries)),\n",
    "        \"y\": list(distilleries)*len(distilleries),\n",
    "        \"colors\": correlation_colors,\n",
    "        \"correlations\": correlations.flatten(),\n",
    "    }\n",
    ")\n",
    "\n",
    "output_file('Whisky_Correlations.html', title='Whisky Correlations')\n",
    "fig = figure(title='Whisky Correlations',\n",
    "             x_axis_location='above',\n",
    "             x_range=list(reversed(distilleries)),\n",
    "             y_range=distilleries,\n",
    "             tools='hover,box_zoom,reset'\n",
    "            )\n",
    "fig.grid.grid_line_color = None\n",
    "fig.axis.axis_line_color = None\n",
    "fig.axis.major_tick_line_color = None\n",
    "fig.axis.major_label_text_font_size = '5pt'\n",
    "fig.xaxis.major_label_orientation = np.pi / 3\n",
    "fig.rect('x', 'y', .9, .9, source=source,\n",
    "     color='colors', alpha='correlations')\n",
    "hover = fig.select(dict(type=HoverTool))\n",
    "hover.tooltips = {\n",
    "    \"Whiskies\": \"@x, @y\",\n",
    "    \"Correlation\": \"@correlations\",\n",
    "}\n",
    "show(fig)\n"
   ]
  },
  {
   "cell_type": "markdown",
   "metadata": {},
   "source": [
    "### Exercise 5\n",
    "\n",
    "In this exercise, we give a demonstration of plotting geographic points.\n",
    "\n",
    "#### Instructions \n",
    "\n",
    "- Run the following code, to be adapted in the next section. Compare this code to that used in plotting the distillery correlations."
   ]
  },
  {
   "cell_type": "code",
   "execution_count": 77,
   "metadata": {
    "scrolled": true
   },
   "outputs": [],
   "source": [
    "points = [(0,0), (1,2), (3,1)]\n",
    "xs, ys = zip(*points)\n",
    "colors = ['#0173b2', '#de8f05', '#029e73']\n",
    "\n",
    "output_file(\"Spatial_Example.html\", title=\"Regional Example\")\n",
    "location_source = ColumnDataSource(\n",
    "    data={\n",
    "        \"x\": xs,\n",
    "        \"y\": ys,\n",
    "        \"colors\": colors,\n",
    "    }\n",
    ")\n",
    "\n",
    "fig = figure(title='Regional Example',\n",
    "             x_axis_location='above',\n",
    "             tools='hover, save'\n",
    "            )\n",
    "# fig.plot_width = 300\n",
    "# fig.plot_height = 380\n",
    "fig.circle('x',\n",
    "           'y',\n",
    "           size=10,\n",
    "           source=location_source,\n",
    "           color='colors',\n",
    "           line_color=None\n",
    "           )\n",
    "\n",
    "hover = fig.select(dict(type = HoverTool))\n",
    "hover.tooltips = {\n",
    "    \"Location\": \"(@x, @y)\"\n",
    "}\n",
    "show(fig)\n"
   ]
  },
  {
   "cell_type": "markdown",
   "metadata": {},
   "source": [
    "### Exercise 6\n",
    "\n",
    "In this exercise, we will define a function `location_plot(title, colors)` that takes a string `title` and a list of colors corresponding to each distillery and outputs a Bokeh plot of each distillery by latitude and longitude. It will also display the distillery name, latitude, and longitude as hover text.\n",
    "\n",
    "#### Instructions \n",
    "\n",
    "- Adapt the given code beginning with the first comment and ending with `show(fig)` to create the function `location_plot()`, as described above.\n",
    "- `Region` is a column of in the `pandas` dataframe `whisky`, containing the regional group membership for each distillery. Make a list consisting of the value of `region_colors` for each distillery, and store this list as `region_cols`.\n",
    "- Use `location_plot` to plot each distillery, colored by its regional grouping."
   ]
  },
  {
   "cell_type": "code",
   "execution_count": 108,
   "metadata": {
    "scrolled": true
   },
   "outputs": [],
   "source": [
    "def location_plot(title, colors):\n",
    "    output_file(title+'.html')\n",
    "    location_source = ColumnDataSource(\n",
    "        data={\n",
    "            \"x\": whisky[' Latitude'],\n",
    "            \"y\": whisky[' Longitude'],\n",
    "            \"colors\": colors,\n",
    "            \"regions\": whisky.Region,\n",
    "            \"distilleries\": whisky.Distillery\n",
    "        }\n",
    "    )\n",
    "    \n",
    "    fig = figure(title=title,\n",
    "                 x_axis_location='above',\n",
    "                 tools='hover, save'\n",
    "                 )\n",
    "    # fig.plot_width = 400\n",
    "    # fig.plot_height = 500\n",
    "    fig.circle('x',\n",
    "               'y',\n",
    "               size=9,\n",
    "               source=location_source,\n",
    "               color='colors',\n",
    "               line_color=None\n",
    "               )\n",
    "    hover = fig.select(dict(type=HoverTool))\n",
    "    hover.tooltips = {\n",
    "        \"Distillery\": \"@distilleries\",\n",
    "        \"Location\": \"(@x, @y)\"\n",
    "    }\n",
    "    show(fig)\n",
    "\n",
    "region_cols = [region_colors[i] for i in whisky.Region]\n",
    "location_plot('Whisky_Locations_and_Regions', region_cols)\n"
   ]
  },
  {
   "cell_type": "markdown",
   "metadata": {},
   "source": [
    "### Exercise 7 \n",
    "\n",
    "In this exercise, we will use this function to plot each distillery, colored by region and taste coclustering classification, respectively.\n",
    "\n",
    "#### Instructions \n",
    "- Create the list `region_cols` consisting of the color in `region_colors` that corresponds to each whisky in `whisky.Region`.\n",
    "- Similarly, create a list `classification_cols` consisting of the color in `cluster_colors` that corresponds to each cluster membership in `whisky.Group`.\n",
    "- Create two interactive plots of distilleries, one using `region_cols` and the other with colors defined by called `classification_cols`. How well do the coclustering groupings match the regional groupings?"
   ]
  },
  {
   "cell_type": "code",
   "execution_count": 109,
   "metadata": {
    "scrolled": true
   },
   "outputs": [],
   "source": [
    "region_cols = [region_colors[i] for i in whisky.Region]\n",
    "classification_cols = [group_colors[i] for i in whisky.Group]\n",
    "\n",
    "location_plot(\"Whisky_Locations_and_Regions\", region_cols)\n",
    "location_plot(\"Whisky_Locations_and_Groups\", classification_cols)"
   ]
  },
  {
   "cell_type": "code",
   "execution_count": null,
   "metadata": {},
   "outputs": [],
   "source": []
  }
 ],
 "metadata": {
  "hide_input": false,
  "kernelspec": {
   "display_name": "Python 3",
   "language": "python",
   "name": "python3"
  },
  "language_info": {
   "codemirror_mode": {
    "name": "ipython",
    "version": 3
   },
   "file_extension": ".py",
   "mimetype": "text/x-python",
   "name": "python",
   "nbconvert_exporter": "python",
   "pygments_lexer": "ipython3",
   "version": "3.8.5"
  },
  "toc": {
   "base_numbering": 1,
   "nav_menu": {},
   "number_sections": true,
   "sideBar": true,
   "skip_h1_title": false,
   "title_cell": "Table of Contents",
   "title_sidebar": "Contents",
   "toc_cell": false,
   "toc_position": {},
   "toc_section_display": true,
   "toc_window_display": false
  }
 },
 "nbformat": 4,
 "nbformat_minor": 2
}
